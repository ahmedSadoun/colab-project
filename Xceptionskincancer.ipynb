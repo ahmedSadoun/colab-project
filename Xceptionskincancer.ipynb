{
  "nbformat": 4,
  "nbformat_minor": 0,
  "metadata": {
    "colab": {
      "name": "Xceptionskincancer.ipynb",
      "provenance": [],
      "mount_file_id": "1zEmz4N1h56OX1gj0BKjxSi6DEWOlybJu",
      "authorship_tag": "ABX9TyNW3aCyim+vpUZpJV0g6iQ5",
      "include_colab_link": true
    },
    "kernelspec": {
      "name": "python3",
      "display_name": "Python 3"
    },
    "language_info": {
      "name": "python"
    },
    "accelerator": "GPU"
  },
  "cells": [
    {
      "cell_type": "markdown",
      "metadata": {
        "id": "view-in-github",
        "colab_type": "text"
      },
      "source": [
        "<a href=\"https://colab.research.google.com/github/ahmedSadoun/colab-project/blob/main/Xceptionskincancer.ipynb\" target=\"_parent\"><img src=\"https://colab.research.google.com/assets/colab-badge.svg\" alt=\"Open In Colab\"/></a>"
      ]
    },
    {
      "cell_type": "code",
      "metadata": {
        "colab": {
          "resources": {
            "http://localhost:8080/nbextensions/google.colab/files.js": {
              "data": "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",
              "ok": true,
              "headers": [
                [
                  "content-type",
                  "application/javascript"
                ]
              ],
              "status": 200,
              "status_text": ""
            }
          },
          "base_uri": "https://localhost:8080/",
          "height": 72
        },
        "id": "OkSS4O9DwgxE",
        "outputId": "d65f7e4b-d89a-414b-e89c-d60b5db67b7a"
      },
      "source": [
        "! pip install -q kaggle\n",
        "from google.colab import files\n",
        "files.upload()\n",
        "! mkdir ~/.kaggle\n",
        "! cp kaggle.json ~/.kaggle/\n",
        "! chmod 600 ~/.kaggle/kaggle.json"
      ],
      "execution_count": null,
      "outputs": [
        {
          "output_type": "display_data",
          "data": {
            "text/html": [
              "\n",
              "     <input type=\"file\" id=\"files-c295ab90-84cc-41b0-a413-803a6541d056\" name=\"files[]\" multiple disabled\n",
              "        style=\"border:none\" />\n",
              "     <output id=\"result-c295ab90-84cc-41b0-a413-803a6541d056\">\n",
              "      Upload widget is only available when the cell has been executed in the\n",
              "      current browser session. Please rerun this cell to enable.\n",
              "      </output>\n",
              "      <script src=\"/nbextensions/google.colab/files.js\"></script> "
            ],
            "text/plain": [
              "<IPython.core.display.HTML object>"
            ]
          },
          "metadata": {
            "tags": []
          }
        },
        {
          "output_type": "stream",
          "text": [
            "Saving kaggle.json to kaggle.json\n"
          ],
          "name": "stdout"
        }
      ]
    },
    {
      "cell_type": "code",
      "metadata": {
        "colab": {
          "base_uri": "https://localhost:8080/"
        },
        "id": "o_w-BXjlwtq0",
        "outputId": "c5b8a9a6-7247-44c6-e09e-4738b4bcbc0c"
      },
      "source": [
        "!kaggle datasets download -d kmader/skin-cancer-mnist-ham10000"
      ],
      "execution_count": null,
      "outputs": [
        {
          "output_type": "stream",
          "text": [
            "Downloading skin-cancer-mnist-ham10000.zip to /content\n",
            "100% 5.20G/5.20G [01:13<00:00, 24.5MB/s]\n",
            "\n"
          ],
          "name": "stdout"
        }
      ]
    },
    {
      "cell_type": "code",
      "metadata": {
        "id": "F7do2mDKwtjG"
      },
      "source": [
        "import zipfile\n",
        "zf = \"/content/skin-cancer-mnist-ham10000.zip\"\n",
        "target_dir = \"/content/dataset/data\"\n",
        "zfile = zipfile.ZipFile(zf)\n",
        "zfile.extractall(target_dir)"
      ],
      "execution_count": null,
      "outputs": []
    },
    {
      "cell_type": "code",
      "metadata": {
        "id": "djM3aB6HztC0"
      },
      "source": [
        "# Importing libraries\n",
        "import pandas as pd\n",
        "import matplotlib.pyplot as plt\n",
        "import os\n",
        "import glob\n",
        "from tqdm import tqdm\n",
        "import tensorflow as tf\n",
        "import keras\n",
        "import numpy as np\n",
        "import cv2\n",
        "import seaborn as sns\n",
        "import random\n",
        "from PIL import Image\n",
        "from tensorflow.keras.models import Sequential, Model\n",
        "from tensorflow.keras.layers import *\n",
        "from tensorflow.keras.optimizers import *\n",
        "from tensorflow.keras.callbacks import *\n",
        "from tensorflow.keras.initializers import *\n",
        "from tensorflow.keras.preprocessing.image import ImageDataGenerator\n",
        "from keras.applications import Xception,VGG16,ResNet50\n",
        "from sklearn.metrics import confusion_matrix\n",
        "from sklearn.metrics import accuracy_score\n",
        "from sklearn.metrics import classification_report\n",
        "from numpy.random import seed"
      ],
      "execution_count": null,
      "outputs": []
    },
    {
      "cell_type": "code",
      "metadata": {
        "id": "iIDZ59OWwu26"
      },
      "source": [
        "# Reading the data\n",
        "path = '/content/dataset/data/'\n",
        "images_path = {os.path.splitext(os.path.basename(x))[0]:x for x in glob.glob(os.path.join(path,'*','*.jpg'))}"
      ],
      "execution_count": null,
      "outputs": []
    },
    {
      "cell_type": "code",
      "metadata": {
        "id": "9VCV4JESwuz3"
      },
      "source": [
        "# Encoding target values\n",
        "lesion_type_dict = {\n",
        "    'nv':'Melanocytic Nevi',\n",
        "    'mel': 'Melanoma',\n",
        "    'bkl': 'Benign keratosis-like lesions ',\n",
        "    'bcc': 'Basal cell carcinoma',\n",
        "    'akiec': 'Actinic keratoses',\n",
        "    'vasc': 'Vascular lesions',\n",
        "    'df': 'Dermatofibroma'\n",
        "    \n",
        "}\n"
      ],
      "execution_count": null,
      "outputs": []
    },
    {
      "cell_type": "code",
      "metadata": {
        "id": "an-C_C2twuxA"
      },
      "source": [
        "# Reading Metadata csv file\n",
        "skin_df = pd.read_csv('/content/dataset/data/HAM10000_metadata.csv')"
      ],
      "execution_count": null,
      "outputs": []
    },
    {
      "cell_type": "code",
      "metadata": {
        "id": "bRxVVAnxwuuV"
      },
      "source": [
        "# Adding extra columns and appending the required created columns in final dataframe\n",
        "skin_df['path'] = skin_df['image_id'].map(images_path.get)\n",
        "skin_df['cell_type'] = skin_df['dx'].map(lesion_type_dict.get)\n",
        "skin_df['cell_type_idx'] = pd.Categorical(skin_df['cell_type']).codes"
      ],
      "execution_count": null,
      "outputs": []
    },
    {
      "cell_type": "code",
      "metadata": {
        "colab": {
          "base_uri": "https://localhost:8080/"
        },
        "id": "6XURMh-1wurn",
        "outputId": "d06ebc6b-5162-4f98-8735-70024a01529f"
      },
      "source": [
        "# Checking the dataframe info.\n",
        "skin_df.info()"
      ],
      "execution_count": null,
      "outputs": [
        {
          "output_type": "stream",
          "text": [
            "<class 'pandas.core.frame.DataFrame'>\n",
            "RangeIndex: 10015 entries, 0 to 10014\n",
            "Data columns (total 10 columns):\n",
            " #   Column         Non-Null Count  Dtype  \n",
            "---  ------         --------------  -----  \n",
            " 0   lesion_id      10015 non-null  object \n",
            " 1   image_id       10015 non-null  object \n",
            " 2   dx             10015 non-null  object \n",
            " 3   dx_type        10015 non-null  object \n",
            " 4   age            9958 non-null   float64\n",
            " 5   sex            10015 non-null  object \n",
            " 6   localization   10015 non-null  object \n",
            " 7   path           10015 non-null  object \n",
            " 8   cell_type      10015 non-null  object \n",
            " 9   cell_type_idx  10015 non-null  int8   \n",
            "dtypes: float64(1), int8(1), object(8)\n",
            "memory usage: 714.1+ KB\n"
          ],
          "name": "stdout"
        }
      ]
    },
    {
      "cell_type": "code",
      "metadata": {
        "id": "kqWKMM7uAGEt"
      },
      "source": [
        ""
      ],
      "execution_count": null,
      "outputs": []
    },
    {
      "cell_type": "code",
      "metadata": {
        "colab": {
          "base_uri": "https://localhost:8080/"
        },
        "id": "jwVPIfedwuom",
        "outputId": "75a8e32a-0ef6-4069-9eea-b49294149d52"
      },
      "source": [
        "# Image Reading and Resizing.\n",
        "IMAGE_SIZE = 71\n",
        "def read_img(img_path):\n",
        "  img = cv2.imread(img_path,cv2.IMREAD_COLOR)\n",
        "  img = cv2.resize(img,(IMAGE_SIZE,IMAGE_SIZE))\n",
        "  return img\n",
        "train_img = []\n",
        "for img_name in tqdm(skin_df['path'].values):\n",
        "  train_img.append(read_img(img_name))"
      ],
      "execution_count": null,
      "outputs": [
        {
          "output_type": "stream",
          "text": [
            "100%|██████████| 10015/10015 [01:26<00:00, 115.38it/s]\n"
          ],
          "name": "stderr"
        }
      ]
    },
    {
      "cell_type": "code",
      "metadata": {
        "colab": {
          "base_uri": "https://localhost:8080/"
        },
        "id": "_GTO_ojl0GXP",
        "outputId": "9b9cb1cd-7a92-4924-ecf8-bdb58e160880"
      },
      "source": [
        "# Converting it into float arrays and normalizing it\n",
        "X = np.array(train_img,np.float32)/255\n",
        "print(X.shape)"
      ],
      "execution_count": null,
      "outputs": [
        {
          "output_type": "stream",
          "text": [
            "(10015, 71, 71, 3)\n"
          ],
          "name": "stdout"
        }
      ]
    },
    {
      "cell_type": "code",
      "metadata": {
        "id": "PrvCRf_T0GRe",
        "colab": {
          "base_uri": "https://localhost:8080/"
        },
        "outputId": "7f177fdf-d9aa-437b-bf34-9f742d047364"
      },
      "source": [
        "# Creating Target\n",
        "y = np.array(skin_df['cell_type_idx'])\n",
        "print(y.shape)"
      ],
      "execution_count": null,
      "outputs": [
        {
          "output_type": "stream",
          "text": [
            "(10015,)\n"
          ],
          "name": "stdout"
        }
      ]
    },
    {
      "cell_type": "code",
      "metadata": {
        "id": "ODmiKX2Z0GO7"
      },
      "source": [
        "# Splitting the data\n",
        "from sklearn.model_selection import train_test_split\n",
        "x_train,x_test,y_train,y_test = train_test_split(X,y,test_size=0.10,random_state=28,stratify=y)\n",
        "x_train,x_val,y_train,y_val =   train_test_split(x_train,y_train,test_size=0.10,random_state=28,stratify=y_train)"
      ],
      "execution_count": null,
      "outputs": []
    },
    {
      "cell_type": "code",
      "metadata": {
        "id": "QXNRtuaZ0GLs"
      },
      "source": [
        "# One-Hot Encoding values\n",
        "from keras.utils.np_utils import to_categorical\n",
        "y_train = to_categorical(y_train, num_classes = 7)\n",
        "y_val = to_categorical(y_val , num_classes=7)\n",
        "\n"
      ],
      "execution_count": null,
      "outputs": []
    },
    {
      "cell_type": "code",
      "metadata": {
        "colab": {
          "base_uri": "https://localhost:8080/"
        },
        "id": "0CBAV4QH0GIs",
        "outputId": "63e7b0b0-9942-4741-8e03-f978a03e0c47"
      },
      "source": [
        "# Defining base model using Xception module from Keras\n",
        "training_shape = (71,71,3)\n",
        "base_model = Xception(include_top=False,weights='imagenet',input_shape = training_shape)\n",
        "for layer in base_model.layers:\n",
        "    layer.trainable = True                         # Training all layers from scratch"
      ],
      "execution_count": null,
      "outputs": [
        {
          "output_type": "stream",
          "text": [
            "Downloading data from https://storage.googleapis.com/tensorflow/keras-applications/xception/xception_weights_tf_dim_ordering_tf_kernels_notop.h5\n",
            "83689472/83683744 [==============================] - 0s 0us/step\n"
          ],
          "name": "stdout"
        }
      ]
    },
    {
      "cell_type": "code",
      "metadata": {
        "id": "5COjjf6v0F9V"
      },
      "source": [
        "#Adding layers at end\n",
        "n_classes = 7\n",
        "model = base_model.output\n",
        "model = Flatten()(model)\n",
        "model = Dense(128)(model)\n",
        "model = Dropout(0.5)(model)\n",
        "model = BatchNormalization()(model)\n",
        "model = Activation('relu')(model)\n",
        "output = Dense(n_classes, activation='softmax')(model)\n",
        "model = Model(inputs=base_model.input, outputs=output)"
      ],
      "execution_count": null,
      "outputs": []
    },
    {
      "cell_type": "code",
      "metadata": {
        "id": "Fvt9iJo31RV5"
      },
      "source": [
        "# Compiling the model\n",
        "optimizer = Adam(lr=0.001)\n",
        "model.compile(loss='categorical_crossentropy',\n",
        "              optimizer=optimizer, \n",
        "              metrics=['accuracy'])"
      ],
      "execution_count": null,
      "outputs": []
    },
    {
      "cell_type": "code",
      "metadata": {
        "id": "zRU0leOz1RSa"
      },
      "source": [
        "# Defining callback Methods\n",
        "n_epoch = 300\n",
        "\n",
        "early_stop = EarlyStopping(monitor='val_loss', patience=20, verbose=1, \n",
        "                           mode='auto', restore_best_weights=True)\n",
        "\n",
        "reduce_lr = ReduceLROnPlateau(monitor='val_loss', factor=0.1, patience=5, \n",
        "                              verbose=1, mode='auto')"
      ],
      "execution_count": null,
      "outputs": []
    },
    {
      "cell_type": "code",
      "metadata": {
        "id": "Kf_1j5191RO8",
        "colab": {
          "base_uri": "https://localhost:8080/"
        },
        "outputId": "d8061b23-e321-4b1f-bcb9-28ab484c00c2"
      },
      "source": [
        "# Fitting the model\n",
        "history = model.fit(x_train,\n",
        "                    y_train,\n",
        "                    epochs=n_epoch,\n",
        "                    callbacks=[reduce_lr,early_stop],\n",
        "                    validation_data=(x_val,y_val)\n",
        "                   )\n",
        "model.save('/content/drive/MyDrive/project models/xceptionskincancer.h5')"
      ],
      "execution_count": null,
      "outputs": [
        {
          "output_type": "stream",
          "text": [
            "Epoch 1/300\n",
            "254/254 [==============================] - 60s 90ms/step - loss: 1.2099 - accuracy: 0.6429 - val_loss: 1.0648 - val_accuracy: 0.7195\n",
            "Epoch 2/300\n",
            "254/254 [==============================] - 20s 80ms/step - loss: 0.7007 - accuracy: 0.7602 - val_loss: 1.7239 - val_accuracy: 0.6020\n",
            "Epoch 3/300\n",
            "254/254 [==============================] - 21s 82ms/step - loss: 0.5662 - accuracy: 0.8077 - val_loss: 0.8257 - val_accuracy: 0.7639\n",
            "Epoch 4/300\n",
            "254/254 [==============================] - 21s 84ms/step - loss: 0.4795 - accuracy: 0.8426 - val_loss: 0.7664 - val_accuracy: 0.7483\n",
            "Epoch 5/300\n",
            "254/254 [==============================] - 22s 86ms/step - loss: 0.3992 - accuracy: 0.8689 - val_loss: 0.7948 - val_accuracy: 0.7716\n",
            "Epoch 6/300\n",
            "254/254 [==============================] - 22s 86ms/step - loss: 0.3235 - accuracy: 0.8926 - val_loss: 0.7373 - val_accuracy: 0.7761\n",
            "Epoch 7/300\n",
            "254/254 [==============================] - 22s 85ms/step - loss: 0.2584 - accuracy: 0.9160 - val_loss: 0.7734 - val_accuracy: 0.7428\n",
            "Epoch 8/300\n",
            "254/254 [==============================] - 22s 85ms/step - loss: 0.2160 - accuracy: 0.9364 - val_loss: 0.7439 - val_accuracy: 0.7772\n",
            "Epoch 9/300\n",
            "254/254 [==============================] - 22s 85ms/step - loss: 0.1861 - accuracy: 0.9424 - val_loss: 0.7587 - val_accuracy: 0.7882\n",
            "Epoch 10/300\n",
            "254/254 [==============================] - 21s 84ms/step - loss: 0.1731 - accuracy: 0.9476 - val_loss: 0.7829 - val_accuracy: 0.7749\n",
            "Epoch 11/300\n",
            "254/254 [==============================] - 22s 85ms/step - loss: 0.1180 - accuracy: 0.9666 - val_loss: 0.6766 - val_accuracy: 0.7849\n",
            "Epoch 12/300\n",
            "254/254 [==============================] - 22s 85ms/step - loss: 0.0924 - accuracy: 0.9717 - val_loss: 0.9107 - val_accuracy: 0.7361\n",
            "Epoch 13/300\n",
            "254/254 [==============================] - 22s 85ms/step - loss: 0.1019 - accuracy: 0.9687 - val_loss: 0.8286 - val_accuracy: 0.7716\n",
            "Epoch 14/300\n",
            "254/254 [==============================] - 21s 85ms/step - loss: 0.0889 - accuracy: 0.9724 - val_loss: 0.7618 - val_accuracy: 0.7949\n",
            "Epoch 15/300\n",
            "254/254 [==============================] - 21s 85ms/step - loss: 0.0873 - accuracy: 0.9726 - val_loss: 0.7810 - val_accuracy: 0.7705\n",
            "Epoch 16/300\n",
            "254/254 [==============================] - 21s 84ms/step - loss: 0.0862 - accuracy: 0.9766 - val_loss: 1.0061 - val_accuracy: 0.7284\n",
            "\n",
            "Epoch 00016: ReduceLROnPlateau reducing learning rate to 0.00010000000474974513.\n",
            "Epoch 17/300\n",
            "254/254 [==============================] - 21s 84ms/step - loss: 0.0474 - accuracy: 0.9857 - val_loss: 0.6208 - val_accuracy: 0.8149\n",
            "Epoch 18/300\n",
            "254/254 [==============================] - 21s 84ms/step - loss: 0.0152 - accuracy: 0.9980 - val_loss: 0.6220 - val_accuracy: 0.8160\n",
            "Epoch 19/300\n",
            "254/254 [==============================] - 21s 84ms/step - loss: 0.0124 - accuracy: 0.9994 - val_loss: 0.6497 - val_accuracy: 0.8204\n",
            "Epoch 20/300\n",
            "254/254 [==============================] - 21s 84ms/step - loss: 0.0101 - accuracy: 0.9976 - val_loss: 0.6673 - val_accuracy: 0.8182\n",
            "Epoch 21/300\n",
            "254/254 [==============================] - 21s 85ms/step - loss: 0.0065 - accuracy: 0.9996 - val_loss: 0.6916 - val_accuracy: 0.8226\n",
            "Epoch 22/300\n",
            "254/254 [==============================] - 22s 85ms/step - loss: 0.0053 - accuracy: 0.9996 - val_loss: 0.6988 - val_accuracy: 0.8226\n",
            "\n",
            "Epoch 00022: ReduceLROnPlateau reducing learning rate to 1.0000000474974514e-05.\n",
            "Epoch 23/300\n",
            "254/254 [==============================] - 22s 85ms/step - loss: 0.0052 - accuracy: 0.9994 - val_loss: 0.7017 - val_accuracy: 0.8237\n",
            "Epoch 24/300\n",
            "254/254 [==============================] - 22s 85ms/step - loss: 0.0048 - accuracy: 0.9995 - val_loss: 0.7027 - val_accuracy: 0.8271\n",
            "Epoch 25/300\n",
            "254/254 [==============================] - 22s 85ms/step - loss: 0.0040 - accuracy: 0.9998 - val_loss: 0.7056 - val_accuracy: 0.8237\n",
            "Epoch 26/300\n",
            "254/254 [==============================] - 21s 84ms/step - loss: 0.0037 - accuracy: 0.9995 - val_loss: 0.7043 - val_accuracy: 0.8259\n",
            "Epoch 27/300\n",
            "254/254 [==============================] - 21s 85ms/step - loss: 0.0038 - accuracy: 0.9997 - val_loss: 0.7059 - val_accuracy: 0.8259\n",
            "\n",
            "Epoch 00027: ReduceLROnPlateau reducing learning rate to 1.0000000656873453e-06.\n",
            "Epoch 28/300\n",
            "254/254 [==============================] - 21s 84ms/step - loss: 0.0038 - accuracy: 0.9996 - val_loss: 0.7081 - val_accuracy: 0.8271\n",
            "Epoch 29/300\n",
            "254/254 [==============================] - 21s 85ms/step - loss: 0.0034 - accuracy: 0.9997 - val_loss: 0.7040 - val_accuracy: 0.8259\n",
            "Epoch 30/300\n",
            "254/254 [==============================] - 21s 84ms/step - loss: 0.0041 - accuracy: 0.9996 - val_loss: 0.7088 - val_accuracy: 0.8248\n",
            "Epoch 31/300\n",
            "254/254 [==============================] - 22s 85ms/step - loss: 0.0030 - accuracy: 1.0000 - val_loss: 0.7018 - val_accuracy: 0.8282\n",
            "Epoch 32/300\n",
            "254/254 [==============================] - 22s 85ms/step - loss: 0.0036 - accuracy: 0.9998 - val_loss: 0.7045 - val_accuracy: 0.8271\n",
            "\n",
            "Epoch 00032: ReduceLROnPlateau reducing learning rate to 1.0000001111620805e-07.\n",
            "Epoch 33/300\n",
            "254/254 [==============================] - 22s 85ms/step - loss: 0.0051 - accuracy: 0.9992 - val_loss: 0.7081 - val_accuracy: 0.8248\n",
            "Epoch 34/300\n",
            "254/254 [==============================] - 22s 85ms/step - loss: 0.0054 - accuracy: 0.9987 - val_loss: 0.7046 - val_accuracy: 0.8282\n",
            "Epoch 35/300\n",
            "254/254 [==============================] - 21s 84ms/step - loss: 0.0038 - accuracy: 0.9996 - val_loss: 0.7111 - val_accuracy: 0.8248\n",
            "Epoch 36/300\n",
            "254/254 [==============================] - 21s 84ms/step - loss: 0.0028 - accuracy: 1.0000 - val_loss: 0.7092 - val_accuracy: 0.8259\n",
            "Epoch 37/300\n",
            "254/254 [==============================] - 22s 85ms/step - loss: 0.0030 - accuracy: 1.0000 - val_loss: 0.7087 - val_accuracy: 0.8271\n",
            "\n",
            "Epoch 00037: ReduceLROnPlateau reducing learning rate to 1.000000082740371e-08.\n",
            "Restoring model weights from the end of the best epoch.\n",
            "Epoch 00037: early stopping\n"
          ],
          "name": "stdout"
        }
      ]
    },
    {
      "cell_type": "code",
      "metadata": {
        "id": "__lJFXNv1RLc"
      },
      "source": [
        ""
      ],
      "execution_count": null,
      "outputs": []
    },
    {
      "cell_type": "code",
      "metadata": {
        "id": "cufpNA2EJ0vS"
      },
      "source": [
        "import keras\n",
        "\n",
        "\n",
        "model=keras.models.load_model('/content/drive/MyDrive/project models/xceptionskincancer.h5')\n",
        "\n"
      ],
      "execution_count": null,
      "outputs": []
    },
    {
      "cell_type": "code",
      "metadata": {
        "id": "7y1xHgUfJ0rY",
        "colab": {
          "base_uri": "https://localhost:8080/"
        },
        "outputId": "44d65d5c-2329-4eca-97b5-fbd4baa70ae7"
      },
      "source": [
        "y_test = to_categorical(y_test, num_classes = 7)\n",
        "score, acc = model.evaluate(x_test,y_test,verbose=1,batch_size=64)\n",
        "\n",
        "print('Test score:', score)\n",
        "print('Test accuracy:', acc)"
      ],
      "execution_count": null,
      "outputs": [
        {
          "output_type": "stream",
          "text": [
            "16/16 [==============================] - 24s 1s/step - loss: 0.6201 - accuracy: 0.8214\n",
            "Test score: 0.6200746893882751\n",
            "Test accuracy: 0.8213573098182678\n"
          ],
          "name": "stdout"
        }
      ]
    },
    {
      "cell_type": "code",
      "metadata": {
        "id": "nqzMwjVB1RIM"
      },
      "source": [
        ""
      ],
      "execution_count": null,
      "outputs": []
    },
    {
      "cell_type": "code",
      "metadata": {
        "id": "H3TDnlGR1RB0"
      },
      "source": [
        ""
      ],
      "execution_count": null,
      "outputs": []
    }
  ]
}